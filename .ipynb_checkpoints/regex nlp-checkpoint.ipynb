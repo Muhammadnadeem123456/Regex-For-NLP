{
 "cells": [
  {
   "cell_type": "code",
   "execution_count": 1,
   "id": "7eafa122-0c52-4452-8553-dbb023fc6a9e",
   "metadata": {},
   "outputs": [],
   "source": [
    "import re"
   ]
  },
  {
   "cell_type": "code",
   "execution_count": 33,
   "id": "0c74581b-e8e5-43c4-8571-0a9f9191e977",
   "metadata": {},
   "outputs": [],
   "source": [
    "chat1='here you ask a lot question 1234567890, abc1242@xyz.com, (123)-567-8912'\n",
    "chat2='here it is (123)-567-8912. abc@xyz.com'\n",
    "chat3='yes, phone:1234567890 email: abc@xyz.io'"
   ]
  },
  {
   "cell_type": "markdown",
   "id": "26acdcec-f6fb-46bb-b0f9-e5fb2d808ebe",
   "metadata": {},
   "source": [
    "Retrieve email id and phone"
   ]
  },
  {
   "cell_type": "code",
   "execution_count": 9,
   "id": "88035f82-59a7-41bd-8d73-9116cf28de3d",
   "metadata": {},
   "outputs": [
    {
     "data": {
      "text/plain": [
       "['1234567890']"
      ]
     },
     "execution_count": 9,
     "metadata": {},
     "output_type": "execute_result"
    }
   ],
   "source": [
    "import re\n",
    "pattern=r'\\d{10}'\n",
    "matches=re.findall(pattern, chat1)\n",
    "matches"
   ]
  },
  {
   "cell_type": "code",
   "execution_count": 13,
   "id": "7c341213-2792-4450-bca8-8e543bfe8bb2",
   "metadata": {},
   "outputs": [
    {
     "name": "stdout",
     "output_type": "stream",
     "text": [
      "['1234567890']\n"
     ]
    }
   ],
   "source": [
    "import re\n",
    "\n",
    "pattern = r'\\d{10}'  # Use a raw string for the regex pattern\n",
    "matches = re.findall(pattern, chat3)\n",
    "print(matches)  # Output: ['1234567890']\n"
   ]
  },
  {
   "cell_type": "code",
   "execution_count": 19,
   "id": "ac38f87e-9775-4dca-a495-d0d577ead9e8",
   "metadata": {},
   "outputs": [
    {
     "name": "stdout",
     "output_type": "stream",
     "text": [
      "['(123)-567-8912']\n"
     ]
    }
   ],
   "source": [
    "import re\n",
    "patter=r'\\(\\d{3}\\)-\\d{3}-\\d{4}'\n",
    "matches = re.findall(patter, chat2)\n",
    "print(matches)"
   ]
  },
  {
   "cell_type": "markdown",
   "id": "b7c085d8-bf0f-4d46-8772-a3a051609429",
   "metadata": {},
   "source": [
    "Use Or operators to concate both regex"
   ]
  },
  {
   "cell_type": "markdown",
   "id": "de24d5e6-70e1-4775-9ee0-4da5168771f5",
   "metadata": {},
   "source": [
    "Retrieving the email and phone no"
   ]
  },
  {
   "cell_type": "code",
   "execution_count": 24,
   "id": "738239f9-8f3e-4a3b-9e8a-9db1d03c0325",
   "metadata": {},
   "outputs": [
    {
     "name": "stdout",
     "output_type": "stream",
     "text": [
      "['1234567890']\n"
     ]
    }
   ],
   "source": [
    "import re\n",
    "patter=r'\\d{10}|\\(\\d{3}\\)-\\d{3}-\\d{4}'\n",
    "matches = re.findall(patter, chat3)\n",
    "print(matches)"
   ]
  },
  {
   "cell_type": "code",
   "execution_count": 38,
   "id": "54f8d6ec-5ac6-4685-9cad-d51dbf9d97ce",
   "metadata": {},
   "outputs": [
    {
     "name": "stdout",
     "output_type": "stream",
     "text": [
      "['abc@xyz.io']\n"
     ]
    }
   ],
   "source": [
    "import re\n",
    "patter=r'[a-z0-9A-Z]*@[a-z]*\\.[a-zA-Z]*'\n",
    "matches = re.findall(patter, chat3)\n",
    "print(matches)"
   ]
  },
  {
   "cell_type": "markdown",
   "id": "c63481ad-2c46-4cad-872c-d1f50c1f74ec",
   "metadata": {},
   "source": [
    "Retrieving the order no"
   ]
  },
  {
   "cell_type": "code",
   "execution_count": 39,
   "id": "c0f99ade-d020-4c6e-a13d-e382bd082dcd",
   "metadata": {},
   "outputs": [],
   "source": [
    "chatt1='I have isseu with order#123421243'\n",
    "chatt2='I have a problem with my order number123421243'\n",
    "chatt3='my order 123421243 having issue'"
   ]
  },
  {
   "cell_type": "code",
   "execution_count": 42,
   "id": "0a06909c-6659-4514-ab12-9ea591805805",
   "metadata": {},
   "outputs": [
    {
     "name": "stdout",
     "output_type": "stream",
     "text": [
      "['123421243']\n"
     ]
    }
   ],
   "source": [
    "import re\n",
    "patter=r'order[^\\d]*(\\d*)'\n",
    "matches = re.findall(patter, chatt2)\n",
    "print(matches)"
   ]
  },
  {
   "cell_type": "markdown",
   "id": "23540df6-0dac-42b1-bf49-b8416abb9c61",
   "metadata": {},
   "source": [
    "2- Regex for Information Extraction"
   ]
  },
  {
   "cell_type": "code",
   "execution_count": 43,
   "id": "c51ae4d8-9e15-41a8-b587-0cb701381c66",
   "metadata": {},
   "outputs": [],
   "source": [
    "text='''\n",
    "Born\tElon Reeve Musk\n",
    "June 28, 1971 (age 50)\n",
    "Pretoria, Transvaal, South Africa\n",
    "Citizenship\t\n",
    "South Africa (1971–present)\n",
    "Canada (1971–present)\n",
    "United States (2002–present)\n",
    "Education\tUniversity of Pennsylvania (BS, BA)\n",
    "Title\t\n",
    "Founder, CEO and Chief Engineer of SpaceX\n",
    "CEO and product architect of Tesla, Inc.\n",
    "Founder of The Boring Company and X.com (now part of PayPal)\n",
    "Co-founder of Neuralink, OpenAI, and Zip2\n",
    "Spouse(s)\t\n",
    "Justine Wilson\n",
    "​\n",
    "​(m. 2000; div. 2008)​\n",
    "Talulah Riley\n",
    "​\n",
    "​(m. 2010; div. 2012)​\n",
    "​\n",
    "​(m. 2013; div. 2016)\n",
    "'''"
   ]
  },
  {
   "cell_type": "markdown",
   "id": "e60778a8-a9a0-4f6d-b260-89dfdc0f3e1f",
   "metadata": {},
   "source": [
    "Retrieving age "
   ]
  },
  {
   "cell_type": "code",
   "execution_count": 44,
   "id": "0bdc40bc-41f3-4b23-8978-19b83493e960",
   "metadata": {},
   "outputs": [
    {
     "name": "stdout",
     "output_type": "stream",
     "text": [
      "['50']\n"
     ]
    }
   ],
   "source": [
    "import re\n",
    "patter=r'age (\\d+)'\n",
    "matches = re.findall(patter, text)\n",
    "print(matches)"
   ]
  },
  {
   "cell_type": "markdown",
   "id": "da0473db-6347-4c72-9f36-c1b3aaf264ed",
   "metadata": {},
   "source": [
    "Retrieving the name"
   ]
  },
  {
   "cell_type": "code",
   "execution_count": 46,
   "id": "4d702061-8b70-46a2-af55-c34ece24841c",
   "metadata": {},
   "outputs": [
    {
     "name": "stdout",
     "output_type": "stream",
     "text": [
      "Elon Reeve Musk\n"
     ]
    }
   ],
   "source": [
    "import re\n",
    "patter=r'Born(.*)'\n",
    "matches = re.findall(patter, text)\n",
    "print(matches[0].strip())"
   ]
  },
  {
   "cell_type": "markdown",
   "id": "d1e58be1-2067-4c0e-b021-0b59167a2849",
   "metadata": {},
   "source": [
    "Retrieving Date of birth"
   ]
  },
  {
   "cell_type": "code",
   "execution_count": 50,
   "id": "385afb95-98e6-4d20-98f3-761f1806b2a0",
   "metadata": {},
   "outputs": [
    {
     "name": "stdout",
     "output_type": "stream",
     "text": [
      "June 28, 1971\n"
     ]
    }
   ],
   "source": [
    "import re\n",
    "patter=r'Born.*\\n(.*)\\(age'\n",
    "matches = re.findall(patter, text)\n",
    "print(matches[0].strip())"
   ]
  },
  {
   "cell_type": "markdown",
   "id": "1358a498-7ab6-4c7d-86e9-419d6710d208",
   "metadata": {},
   "source": [
    "Where he/she born"
   ]
  },
  {
   "cell_type": "code",
   "execution_count": 51,
   "id": "f53259e9-820e-48ba-8708-1a3f707a6c12",
   "metadata": {},
   "outputs": [
    {
     "name": "stdout",
     "output_type": "stream",
     "text": [
      "Pretoria, Transvaal, South Africa\n"
     ]
    }
   ],
   "source": [
    "import re\n",
    "patter=r'\\(age.*\\n(.*)'\n",
    "matches = re.findall(patter, text)\n",
    "print(matches[0].strip())"
   ]
  },
  {
   "cell_type": "code",
   "execution_count": 55,
   "id": "58fe0e52-2e2f-45a5-b3d7-b27ad5450b44",
   "metadata": {},
   "outputs": [
    {
     "name": "stdout",
     "output_type": "stream",
     "text": [
      "{'age': 43, 'name': 'John Doe', 'birth_date': 'January 1, 1980', 'birth_place': 'New York City, New York, USA'}\n"
     ]
    }
   ],
   "source": [
    "import re\n",
    "\n",
    "def get_pattern_match(pattern, text):\n",
    "    match = re.search(pattern, text)\n",
    "    return match.group(1) if match else None\n",
    "\n",
    "def extract_personal_information(text):\n",
    "    age = get_pattern_match(r'age (\\d+)', text)\n",
    "    full_name = get_pattern_match(r'Born(.*)\\n', text)\n",
    "    birth_date = get_pattern_match(r'Born.*\\n(.*)\\(age', text)\n",
    "    birth_place = get_pattern_match(r'\\(age.*\\n(.*)', text)\n",
    "    return { \n",
    "        'age': int(age) if age else None,\n",
    "        'name': full_name.strip() if full_name else None,\n",
    "        'birth_date': birth_date.strip() if birth_date else None,\n",
    "        'birth_place': birth_place.strip() if birth_place else None\n",
    "    }\n",
    "\n",
    "# Example usage\n",
    "text = \"\"\"Born John Doe\n",
    "January 1, 1980 (age 43)\n",
    "New York City, New York, USA\"\"\"\n",
    "\n",
    "info = extract_personal_information(text)\n",
    "print(info)\n"
   ]
  }
 ],
 "metadata": {
  "kernelspec": {
   "display_name": "Python 3 (ipykernel)",
   "language": "python",
   "name": "python3"
  },
  "language_info": {
   "codemirror_mode": {
    "name": "ipython",
    "version": 3
   },
   "file_extension": ".py",
   "mimetype": "text/x-python",
   "name": "python",
   "nbconvert_exporter": "python",
   "pygments_lexer": "ipython3",
   "version": "3.12.5"
  }
 },
 "nbformat": 4,
 "nbformat_minor": 5
}
